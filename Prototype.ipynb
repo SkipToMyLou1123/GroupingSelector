{
 "cells": [
  {
   "cell_type": "code",
   "execution_count": 5,
   "metadata": {},
   "outputs": [],
   "source": [
    "players = [['p'+str(i+1), i] for i in range(10)]"
   ]
  },
  {
   "cell_type": "code",
   "execution_count": 18,
   "metadata": {},
   "outputs": [],
   "source": [
    "from random import shuffle, choice"
   ]
  },
  {
   "cell_type": "code",
   "execution_count": 20,
   "metadata": {},
   "outputs": [],
   "source": [
    "players = [\n",
    "    ['im old', 8.5],\n",
    "    ['miau', 9.5],\n",
    "    ['skip to my lou', 9],\n",
    "    ['pankick', 9],\n",
    "    ['kittenfeeder', 8.5],\n",
    "    ['ft loxx', 6],\n",
    "    ['cod', 7.5],\n",
    "    ['782', 7],\n",
    "    ['l and k', 8],\n",
    "    ['falllundead', 5]\n",
    "]"
   ]
  },
  {
   "cell_type": "code",
   "execution_count": 51,
   "metadata": {},
   "outputs": [],
   "source": [
    "players = [\n",
    "    ['im old', 0.5],\n",
    "    ['miau', 9.5],\n",
    "    ['skip to my lou', 9],\n",
    "    ['pankick', 9],\n",
    "    ['kittenfeeder', 8.5],\n",
    "    ['ft loxx', 0],\n",
    "    ['cod', 0.5],\n",
    "    ['782', 0],\n",
    "    ['l and k', 0],\n",
    "    ['falllundead', 0]\n",
    "]"
   ]
  },
  {
   "cell_type": "code",
   "execution_count": 52,
   "metadata": {},
   "outputs": [
    {
     "data": {
      "text/plain": [
       "[['im old', 0.5],\n",
       " ['miau', 9.5],\n",
       " ['skip to my lou', 9],\n",
       " ['pankick', 9],\n",
       " ['kittenfeeder', 8.5],\n",
       " ['ft loxx', 0],\n",
       " ['cod', 0.5],\n",
       " ['782', 0],\n",
       " ['l and k', 0],\n",
       " ['falllundead', 0]]"
      ]
     },
     "execution_count": 52,
     "metadata": {},
     "output_type": "execute_result"
    }
   ],
   "source": [
    "players"
   ]
  },
  {
   "cell_type": "code",
   "execution_count": 53,
   "metadata": {},
   "outputs": [],
   "source": [
    "shuffle(players)"
   ]
  },
  {
   "cell_type": "code",
   "execution_count": 54,
   "metadata": {},
   "outputs": [
    {
     "data": {
      "text/plain": [
       "[['pankick', 9],\n",
       " ['kittenfeeder', 8.5],\n",
       " ['skip to my lou', 9],\n",
       " ['miau', 9.5],\n",
       " ['falllundead', 0],\n",
       " ['ft loxx', 0],\n",
       " ['782', 0],\n",
       " ['l and k', 0],\n",
       " ['cod', 0.5],\n",
       " ['im old', 0.5]]"
      ]
     },
     "execution_count": 54,
     "metadata": {},
     "output_type": "execute_result"
    }
   ],
   "source": [
    "players"
   ]
  },
  {
   "cell_type": "code",
   "execution_count": 55,
   "metadata": {},
   "outputs": [],
   "source": [
    "team_left, team_right = players[:5], players[5:]"
   ]
  },
  {
   "cell_type": "code",
   "execution_count": 56,
   "metadata": {},
   "outputs": [
    {
     "name": "stdout",
     "output_type": "stream",
     "text": [
      "[['pankick', 9], ['kittenfeeder', 8.5], ['skip to my lou', 9], ['miau', 9.5], ['falllundead', 0]]\n",
      "[['ft loxx', 0], ['782', 0], ['l and k', 0], ['cod', 0.5], ['im old', 0.5]]\n"
     ]
    }
   ],
   "source": [
    "print(team_left)\n",
    "print(team_right)"
   ]
  },
  {
   "cell_type": "code",
   "execution_count": 57,
   "metadata": {},
   "outputs": [],
   "source": [
    "left_score = sum([x[1] for x in team_left])\n",
    "right_score = sum([x[1] for x in team_right])"
   ]
  },
  {
   "cell_type": "code",
   "execution_count": 58,
   "metadata": {},
   "outputs": [
    {
     "name": "stdout",
     "output_type": "stream",
     "text": [
      "36.0 1.0\n"
     ]
    }
   ],
   "source": [
    "print(left_score, right_score)"
   ]
  },
  {
   "cell_type": "code",
   "execution_count": 29,
   "metadata": {},
   "outputs": [],
   "source": [
    "tolerance = 3"
   ]
  },
  {
   "cell_type": "code",
   "execution_count": 60,
   "metadata": {},
   "outputs": [],
   "source": [
    "def team_run(players, tolerance = 3):\n",
    "    shuffle(players)\n",
    "    team_left, team_right = players[:5], players[5:]\n",
    "    left_score = sum([x[1] for x in team_left])\n",
    "    right_score = sum([x[1] for x in team_right])\n",
    "    print(team_left)\n",
    "    print(team_right)\n",
    "    print(left_score, right_score)\n",
    "    if abs(left_score - right_score) > tolerance:\n",
    "        result = []\n",
    "        for i in range(5):\n",
    "            left_player, left_player_score = team_left[i]\n",
    "            left_rest_score = left_score - left_player_score\n",
    "            for j in range(5):\n",
    "                right_player, right_player_score = team_right[j]\n",
    "                right_rest_score = right_score - right_player_score\n",
    "                if abs(left_rest_score + right_player_score - (right_rest_score + left_player_score)) <= tolerance:\n",
    "                    result += [([left_player, left_player_score], i), ([right_player, right_player_score], j)],\n",
    "        if not result:\n",
    "            print(\"SINGLE TRADE NOT FEASIBLE!\")\n",
    "            return\n",
    "        left, right = choice(result)\n",
    "        print('*' * 60)\n",
    "        print(\"TRADE: Left team trades {} with {}\".format(str(left[0][0]), str(right[0][0])))\n",
    "        print('*' * 60)\n",
    "        team_left[left[1]], team_right[right[1]] = right[0], left[0]\n",
    "        left_score = sum([x[1] for x in team_left])\n",
    "        right_score = sum([x[1] for x in team_right])\n",
    "        print(team_left)\n",
    "        print(team_right)\n",
    "        print(left_score, right_score)\n",
    "    print('='*80)"
   ]
  },
  {
   "cell_type": "code",
   "execution_count": 64,
   "metadata": {},
   "outputs": [
    {
     "name": "stdout",
     "output_type": "stream",
     "text": [
      "[['pankick', 9], ['782', 0], ['skip to my lou', 9], ['kittenfeeder', 8.5], ['miau', 9.5]]\n",
      "[['falllundead', 0], ['cod', 0.5], ['ft loxx', 0], ['l and k', 0], ['im old', 0.5]]\n",
      "36.0 1.0\n",
      "SINGLE TRADE NOT FEASIBLE!\n",
      "[['skip to my lou', 9], ['ft loxx', 0], ['pankick', 9], ['782', 0], ['cod', 0.5]]\n",
      "[['kittenfeeder', 8.5], ['im old', 0.5], ['miau', 9.5], ['falllundead', 0], ['l and k', 0]]\n",
      "18.5 18.5\n",
      "================================================================================\n",
      "[['l and k', 0], ['782', 0], ['im old', 0.5], ['ft loxx', 0], ['pankick', 9]]\n",
      "[['falllundead', 0], ['miau', 9.5], ['cod', 0.5], ['skip to my lou', 9], ['kittenfeeder', 8.5]]\n",
      "9.5 27.5\n",
      "************************************************************\n",
      "TRADE: Left team trades im old with miau\n",
      "************************************************************\n",
      "[['l and k', 0], ['782', 0], ['miau', 9.5], ['ft loxx', 0], ['pankick', 9]]\n",
      "[['falllundead', 0], ['im old', 0.5], ['cod', 0.5], ['skip to my lou', 9], ['kittenfeeder', 8.5]]\n",
      "18.5 18.5\n",
      "================================================================================\n",
      "[['ft loxx', 0], ['im old', 0.5], ['kittenfeeder', 8.5], ['pankick', 9], ['skip to my lou', 9]]\n",
      "[['782', 0], ['falllundead', 0], ['miau', 9.5], ['cod', 0.5], ['l and k', 0]]\n",
      "27.0 10.0\n",
      "************************************************************\n",
      "TRADE: Left team trades kittenfeeder with l and k\n",
      "************************************************************\n",
      "[['ft loxx', 0], ['im old', 0.5], ['l and k', 0], ['pankick', 9], ['skip to my lou', 9]]\n",
      "[['782', 0], ['falllundead', 0], ['miau', 9.5], ['cod', 0.5], ['kittenfeeder', 8.5]]\n",
      "18.5 18.5\n",
      "================================================================================\n",
      "[['ft loxx', 0], ['cod', 0.5], ['pankick', 9], ['miau', 9.5], ['im old', 0.5]]\n",
      "[['kittenfeeder', 8.5], ['l and k', 0], ['782', 0], ['skip to my lou', 9], ['falllundead', 0]]\n",
      "19.5 17.5\n",
      "================================================================================\n"
     ]
    }
   ],
   "source": [
    "for i in range(5):\n",
    "    team_run(players)"
   ]
  },
  {
   "cell_type": "code",
   "execution_count": null,
   "metadata": {},
   "outputs": [],
   "source": []
  }
 ],
 "metadata": {
  "kernelspec": {
   "display_name": "Python 3",
   "language": "python",
   "name": "python3"
  },
  "language_info": {
   "codemirror_mode": {
    "name": "ipython",
    "version": 3
   },
   "file_extension": ".py",
   "mimetype": "text/x-python",
   "name": "python",
   "nbconvert_exporter": "python",
   "pygments_lexer": "ipython3",
   "version": "3.7.6"
  }
 },
 "nbformat": 4,
 "nbformat_minor": 2
}
